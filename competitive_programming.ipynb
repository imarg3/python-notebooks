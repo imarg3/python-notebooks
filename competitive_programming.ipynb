{
  "nbformat": 4,
  "nbformat_minor": 0,
  "metadata": {
    "colab": {
      "name": "competitive_programming.ipynb",
      "provenance": [],
      "authorship_tag": "ABX9TyNo3gKMwBhRResrxsPkiePF"
    },
    "kernelspec": {
      "display_name": "Python 3",
      "name": "python3"
    }
  },
  "cells": [
    {
      "cell_type": "markdown",
      "metadata": {
        "id": "ScnAijcU7hUh"
      },
      "source": [
        "# Recursion\r\n",
        "In computer science, recursion is a method of solving a problem where the solution depends on solutions to smaller instances of the same problem. Such problems can generally be solved by iteration, but this needs to identify and index the smaller instances at programming time.\r\n",
        "\r\n",
        "# Dynamic Programming\r\n",
        "\r\n",
        "## Memoization (Top Down) : \r\n",
        "In computing, memoization or memoisation is an optimization technique used primarily to speed up computer programs by storing the results of expensive function calls and returning the cached result when the same inputs occur again.\r\n",
        "\r\n",
        "## Tabulation (Bottom Up) : \r\n",
        "Going bottom-up is a way to avoid recursion, saving the memory cost that recursion incurs when it builds up the call stack.\r\n",
        "\r\n",
        "Put simply, a bottom-up algorithm \"starts from the beginning,\" while a recursive algorithm often \"starts from the end and works backwards.\""
      ]
    },
    {
      "cell_type": "markdown",
      "metadata": {
        "id": "dw63pUW5DSL2"
      },
      "source": [
        "### Fibonacci Series\r\n",
        "\r\n",
        "- Using Recursion"
      ]
    },
    {
      "cell_type": "code",
      "metadata": {
        "colab": {
          "background_save": true
        },
        "id": "INsfvHfA7WRm"
      },
      "source": [
        "import time\r\n",
        "\r\n",
        "def fib(n):\r\n",
        "    if n < 0:\r\n",
        "        raise Exception(\"Negative integers are not allowed for Fibonacci series!\")\r\n",
        "\r\n",
        "    # Base condition : first two 1s return 1 for index/position 1 & 2\r\n",
        "\r\n",
        "    return fib(n - 2) + fib(n - 1) if n > 2 else 1\r\n",
        "\r\n",
        "start = time.time()\r\n",
        "print(fib(20))\r\n",
        "end = time.time()\r\n",
        "print(end - start)"
      ],
      "execution_count": null,
      "outputs": []
    },
    {
      "cell_type": "markdown",
      "metadata": {
        "id": "2vRYPgNmF0gZ"
      },
      "source": [
        "- Using Memoization (Top Down)"
      ]
    },
    {
      "cell_type": "code",
      "metadata": {
        "id": "wC2otGBRF5kv"
      },
      "source": [
        "def fib_memo2(n, memo):\r\n",
        "    # base condition\r\n",
        "    if n < 0:\r\n",
        "        raise Exception(\"Negative integers are not allowed for Fibonacci series!\")\r\n",
        "\r\n",
        "    if memo[n] is not None:\r\n",
        "        return memo[n]\r\n",
        "\r\n",
        "    # Base Condition\r\n",
        "    if n == 1 or n == 2:\r\n",
        "        return 1\r\n",
        "\r\n",
        "    result = fib_memo2(n - 1, memo) + fib_memo2(n - 2, memo)\r\n",
        "    memo[n] = result\r\n",
        "\r\n",
        "    print(memo)\r\n",
        "    return result\r\n",
        "\r\n",
        "def fib_memo(n):\r\n",
        "    memo = [None] * (n + 1)\r\n",
        "    return fib_memo2(n, memo)\r\n",
        "\r\n",
        "fib_memo(5)"
      ],
      "execution_count": null,
      "outputs": []
    },
    {
      "cell_type": "markdown",
      "metadata": {
        "id": "KUpYFMWqKK_C"
      },
      "source": [
        "- Using Tabulation (Bottom Up)"
      ]
    },
    {
      "cell_type": "code",
      "metadata": {
        "id": "WKGvpLTlKtLA"
      },
      "source": [
        "def fib_bottom_up(n):\r\n",
        "    if n == 1 or n == 2:\r\n",
        "        return 1\r\n",
        "\r\n",
        "    bottom_up = [None] * (n+1)\r\n",
        "    bottom_up[1] = 1\r\n",
        "    bottom_up[2] = 1\r\n",
        "\r\n",
        "    for i in range(3, n+1):\r\n",
        "        bottom_up[i] = bottom_up[i - 1] + bottom_up[i - 2]\r\n",
        "\r\n",
        "    return bottom_up[n]\r\n",
        "\r\n",
        "print(fib_bottom_up(5))"
      ],
      "execution_count": null,
      "outputs": []
    },
    {
      "cell_type": "markdown",
      "metadata": {
        "id": "EH3gEYNemHN3"
      },
      "source": [
        "# Coin Exchange Problem:\r\n",
        "Coin exchange problem is nothing but finding the minimum number of coins (of certain denominations) that add up to a given amount of money. It is a knapsack type problem.\r\n",
        "The interesting fact is that it has 2 variations:"
      ]
    },
    {
      "cell_type": "markdown",
      "metadata": {
        "id": "lAkCxqttpTVS"
      },
      "source": [
        "# Greedy Algorithm to find Minimum number of Coins\r\n",
        "\r\n",
        "Given a value V, if we want to make a change for V Rs, and we have an infinite supply of each of the denominations in Indian currency, i.e., we have an infinite supply of { 1, 2, 5, 10, 20, 50, 100, 500, 1000} valued coins/notes, what is the minimum number of coins and/or notes needed to make the change?\r\n",
        "\r\n",
        "**Examples:**\r\n",
        "\r\n",
        "```\r\n",
        "Input: V = 70\r\n",
        "Output: 2\r\n",
        "We need a 50 Rs note and a 20 Rs note.\r\n",
        "\r\n",
        "Input: V = 121\r\n",
        "Output: 3\r\n",
        "We need a 100 Rs note, a 20 Rs note and a 1 Rs coin.\r\n",
        "```\r\n",
        "**Solution**: Greedy Approach.\r\n",
        "\r\n",
        "**Approach**: A common intuition would be to take coins with greater value first. This can reduce the total number of coins needed. Start from the largest possible denomination and keep adding denominations while the remaining value is greater than 0. \r\n",
        "\r\n",
        "**Algorithm**:  \r\n",
        "\r\n",
        "1. Sort the array of coins in decreasing order.\r\n",
        "2. Initialize result as empty.\r\n",
        "3. Find the largest denomination that is smaller than current amount.\r\n",
        "4. Add found denomination to result. Subtract value of found denomination from amount.\r\n",
        "5. If amount becomes 0, then print result.\r\n",
        "6. Else repeat steps 3 and 4 for new value of V.\r\n",
        "\r\n",
        "For some type of coin system (canonical coin systems — like the one used in the India, US and many other countries) a greedy approach works. The valued coins will be like `{ 1, 2, 5, 10, 20, 50, 100, 500, 1000}`. i.e. In our algorithm we always choose the biggest denomination, subtract the all possible values and going to the next denomination.\r\n",
        "\r\n",
        "\r\n"
      ]
    },
    {
      "cell_type": "code",
      "metadata": {
        "id": "DaesqNXCmsW8"
      },
      "source": [
        "# Denominations of Indian Currency\r\n",
        "deno = [1, 2, 5, 10, 20, 50, 100, 500, 1000]\r\n",
        "n = len(deno)\r\n",
        "\r\n",
        "def findMin(amount):\r\n",
        "    ans = []\r\n",
        "    i = n - 1\r\n",
        "\r\n",
        "    while i >= 0:\r\n",
        "        while amount >= deno[i]:\r\n",
        "            amount -= deno[i]\r\n",
        "            ans.append(deno[i])\r\n",
        "        i -= 1\r\n",
        "    \r\n",
        "    for coin in ans:\r\n",
        "\t    print(coin)\r\n",
        "\r\n",
        "V = 93\r\n",
        "findMin(V)"
      ],
      "execution_count": null,
      "outputs": []
    },
    {
      "cell_type": "markdown",
      "metadata": {
        "id": "ilVaQGc013H3"
      },
      "source": [
        "## Complexity Analysis: \r\n",
        "\r\n",
        "- **Time Complexity**: O(V).\r\n",
        "- **Auxiliary Space**: O(1) as no additional space is used."
      ]
    },
    {
      "cell_type": "markdown",
      "metadata": {
        "id": "eMYpit-8n9v3"
      },
      "source": [
        "## Dynamic programming:\r\n",
        "The above solution wont work good for any arbitrary coin systems.\r\n",
        "For example: if the coin denominations were 1, 3 and 4. To make 6, the greedy algorithm would choose three coins (4,1,1), whereas the optimal solution is two coins (3,3)\r\n",
        "Hence, we need to check all possible combinations. But this problem has 2 property of the Dynamic Programming.\r\n",
        "\r\n",
        "1. Optimal Substructure To count total number solutions, we can divide all set solutions in two sets. a) Solutions that do not contain mth coin (or Sm). b) Solutions that contain at least one Sm. Let count(S[], m, n) be the function to count the number of solutions, then it can be written as sum of count(S[], m-1, n) and count(S[], m, n-Sm).\r\n",
        "\r\n",
        "```\r\n",
        "count( S, m, n ) =\r\n",
        "\tBase condition:\r\n",
        "\tif (n = 0)           => 1\r\n",
        "\tif (n < 0)           => 0\r\n",
        "\tif (m <=0 && n >= 1) => 0\r\n",
        "\r\n",
        "\tRecurrence relation:\r\n",
        "\tcount( S, m - 1, n ) + count( S, m, n-S[m-1] )\r\n",
        "```\r\n",
        "\r\n",
        "2. Overlapping Subproblems If we go for a naive recursive implementation of the above, We repreatedly calculate same subproblems.\r\n",
        "Hence, a suitable candidate for the DP. Following is the DP implementation\r\n",
        "\r\n"
      ]
    },
    {
      "cell_type": "code",
      "metadata": {
        "id": "SaIDkboBoIb6"
      },
      "source": [
        "# Dynamic Programming Python implementation of Coin Change problem\r\n",
        "def count(S, m, n):\r\n",
        "    # We need n+1 rows as the table is consturcted in bottom up\r\n",
        "    # manner using the base case 0 value case (n = 0)\r\n",
        "    table = [[0 for x in range(m)] for x in range(n+1)]\r\n",
        " \r\n",
        "    # Fill the enteries for 0 value case (n = 0)\r\n",
        "    for i in range(m):\r\n",
        "        table[0][i] = 1\r\n",
        " \r\n",
        "    # Fill rest of the table enteries in bottom up manner\r\n",
        "    for i in range(1, n+1):\r\n",
        "        for j in range(m):\r\n",
        "            # Count of solutions including S[j]\r\n",
        "            x = table[i - S[j]][j] if i-S[j] >= 0 else 0\r\n",
        " \r\n",
        "            # Count of solutions excluding S[j]\r\n",
        "            y = table[i][j-1] if j >= 1 else 0\r\n",
        " \r\n",
        "            # total count\r\n",
        "            table[i][j] = x + y\r\n",
        " \r\n",
        "    return table[n][m-1]\r\n",
        " \r\n",
        "# Driver program to test above function\r\n",
        "arr = [1, 2, 3]\r\n",
        "m = len(arr)\r\n",
        "n = 4\r\n",
        "print(count(arr, m, n))"
      ],
      "execution_count": null,
      "outputs": []
    }
  ]
}