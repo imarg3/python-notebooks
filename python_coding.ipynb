{
  "nbformat": 4,
  "nbformat_minor": 0,
  "metadata": {
    "colab": {
      "name": "python-coding.ipynb",
      "provenance": [],
      "collapsed_sections": [],
      "authorship_tag": "ABX9TyMzNAezQEZ4RITGUMVWkZW1"
    },
    "kernelspec": {
      "name": "python3",
      "display_name": "Python 3"
    }
  },
  "cells": [
    {
      "cell_type": "markdown",
      "metadata": {
        "id": "YMpYU5jPdEXc"
      },
      "source": [
        "# **Introduction**\n",
        "\n",
        "Python is an interpreted, high-level and general-purpose programming language. Python's design philosophy emphasizes code readability with its notable use of significant whitespace.\n",
        "\n",
        "All the code written & tested using *Python 3* version\n",
        "\n",
        "Here is the first typical **Hello World** example using Python :\n",
        "\n"
      ]
    },
    {
      "cell_type": "code",
      "metadata": {
        "id": "oE9lEwR6AJls"
      },
      "source": [
        "print(\"Hello Arpit!\")"
      ],
      "execution_count": null,
      "outputs": []
    },
    {
      "cell_type": "markdown",
      "metadata": {
        "id": "uMGxacIfnP76"
      },
      "source": [
        "### Check your allocated space on Google Colab"
      ]
    },
    {
      "cell_type": "code",
      "metadata": {
        "id": "Dk9TgTJmmsT0"
      },
      "source": [
        "import subprocess\n",
        "p = subprocess.Popen('df -h', shell=True, stdout=subprocess.PIPE)\n",
        "print(str(p.communicate()[0], 'utf-8'))"
      ],
      "execution_count": null,
      "outputs": []
    },
    {
      "cell_type": "markdown",
      "metadata": {
        "id": "2yjvWP54TbS6"
      },
      "source": [
        "Some Python Code Examples"
      ]
    },
    {
      "cell_type": "code",
      "metadata": {
        "id": "mQddqEGmyCl3"
      },
      "source": [
        "add = lambda x, y : x + y\n",
        "add(2, 3)"
      ],
      "execution_count": null,
      "outputs": []
    },
    {
      "cell_type": "code",
      "metadata": {
        "id": "s7z-oHgKGGsv"
      },
      "source": [
        "dict = {'a': 1, 'b': 2, 'c': 3}\n",
        "len(dict)"
      ],
      "execution_count": null,
      "outputs": []
    },
    {
      "cell_type": "markdown",
      "metadata": {
        "id": "FFrM6nIbd7Gh"
      },
      "source": [
        "**Simplest way to reverse a string**"
      ]
    },
    {
      "cell_type": "code",
      "metadata": {
        "id": "XhuBuDeWzylj"
      },
      "source": [
        "str = \"google\"[::-1]\r\n",
        "print(str)"
      ],
      "execution_count": null,
      "outputs": []
    },
    {
      "cell_type": "markdown",
      "metadata": {
        "id": "9pAzzXxKeCcu"
      },
      "source": [
        "**Classes in Python**"
      ]
    },
    {
      "cell_type": "code",
      "metadata": {
        "id": "3dpLmgrYzsKs"
      },
      "source": [
        "class Person:\r\n",
        "  type = 'person'\r\n",
        "\r\n",
        "  def __init__(self, firstname, lastname):\r\n",
        "    self.firstname = firstname\r\n",
        "    self.lastname = lastname\r\n",
        "\r\n",
        "  @classmethod\r\n",
        "  def test(cls, firstname, lastname):\r\n",
        "    cls.firstname = firstname\r\n",
        "    cls.lastname = lastname\r\n",
        "\r\n",
        "person = Person('Arpit', 'Gupta')\r\n",
        "\r\n",
        "print(Person.type)\r\n",
        "\r\n",
        "print(person.firstname)"
      ],
      "execution_count": null,
      "outputs": []
    },
    {
      "cell_type": "markdown",
      "metadata": {
        "id": "PqXEXJfkTy3v"
      },
      "source": [
        "# Functional Programming in Python\n",
        "\n",
        "## Functions Applied to Functions\n",
        "\n",
        "We can supply functions as arguments to other functions."
      ]
    },
    {
      "cell_type": "code",
      "metadata": {
        "id": "5sP-AVp_9v1y"
      },
      "source": [
        "def multi_by_five(x):\r\n",
        "  return 5 * x\r\n",
        "\r\n",
        "def call(fn, arg):\r\n",
        "  \"\"\"Call fn on arg\"\"\"\r\n",
        "  return fn(arg)\r\n",
        "\r\n",
        "def squared_Call(fn, arg):\r\n",
        "  \"\"\"Call fn on the result of calling fn on arg\"\"\"\r\n",
        "  return fn(fn(arg))\r\n",
        "\r\n",
        "print(call(multi_by_five, 1), squared_Call(multi_by_five, 1), sep=\"\\n\")"
      ],
      "execution_count": null,
      "outputs": []
    },
    {
      "cell_type": "markdown",
      "metadata": {
        "id": "Y_HbnSa4_ADO"
      },
      "source": [
        "Functions that operate on other functions are called \"Higher order functions\". You probably won't write your own for a little while. But there are higher order functions built into Python that you might find useful to call.\r\n",
        "\r\n",
        "Here's an interesting example using the max function.\r\n",
        "\r\n",
        "By default, max returns the largest of its arguments. But if we pass in a function using the optional key argument, it returns the argument x that maximizes key(x) (aka the 'argmax')."
      ]
    },
    {
      "cell_type": "code",
      "metadata": {
        "id": "Tf9AuysG_Y4I"
      },
      "source": [
        "def mod_5(x):\r\n",
        "    \"\"\"Return the remainder of x after dividing by 5\"\"\"\r\n",
        "    return x % 5\r\n",
        "\r\n",
        "print(\r\n",
        "    'Which number is biggest?',\r\n",
        "    max(100, 51, 14),\r\n",
        "    'Which number is the biggest modulo 5?',\r\n",
        "    max(100, 51, 14, key=mod_5),\r\n",
        "    sep='\\n',\r\n",
        ")"
      ],
      "execution_count": null,
      "outputs": []
    },
    {
      "cell_type": "markdown",
      "metadata": {
        "id": "xJBWg7UlWH7Y"
      },
      "source": [
        "**filter()**\n",
        "\n",
        "Filter lets us filter in some values based on conditional logic."
      ]
    },
    {
      "cell_type": "code",
      "metadata": {
        "id": "VGKa0sgvT--5"
      },
      "source": [
        "list(filter(lambda x: x>5, range(8)))"
      ],
      "execution_count": null,
      "outputs": []
    },
    {
      "cell_type": "markdown",
      "metadata": {
        "id": "t9IZVE7uWcuy"
      },
      "source": [
        "**map()**\n",
        "\n",
        "Map applies a function to every element in an iterable."
      ]
    },
    {
      "cell_type": "code",
      "metadata": {
        "id": "Gh1aMy9DWqA4"
      },
      "source": [
        "list(map(lambda x: x**2, range(10)))"
      ],
      "execution_count": null,
      "outputs": []
    },
    {
      "cell_type": "markdown",
      "metadata": {
        "id": "Rla9kMFPXAqB"
      },
      "source": [
        "**reduce()**\n",
        "\n",
        "Reduce repeatedly reduces a sequence pair-wise until we reach a single value."
      ]
    },
    {
      "cell_type": "code",
      "metadata": {
        "id": "i51PyfLzXF1h"
      },
      "source": [
        "from functools import reduce\n",
        "reduce(lambda x, y : x - y, [1,2,3,4,5])"
      ],
      "execution_count": null,
      "outputs": []
    },
    {
      "cell_type": "code",
      "metadata": {
        "id": "jXTvcJjYDdD8"
      },
      "source": [
        "x = [9,8,2]\r\n",
        "y = x.remove(2)\r\n",
        "z = print(1, end=\" \")\r\n",
        "\r\n",
        "if y or z:\r\n",
        "  print(1)\r\n",
        "else:\r\n",
        "  print(2)\r\n",
        "\r\n"
      ],
      "execution_count": null,
      "outputs": []
    },
    {
      "cell_type": "code",
      "metadata": {
        "id": "uToUc-UgOHMj"
      },
      "source": [
        "pip install wikipedia"
      ],
      "execution_count": null,
      "outputs": []
    },
    {
      "cell_type": "code",
      "metadata": {
        "id": "W_PSET6gOcRq"
      },
      "source": [
        "import wikipedia\r\n",
        "\r\n",
        "result = wikipedia.summary(\"software\")\r\n",
        "print(result)"
      ],
      "execution_count": null,
      "outputs": []
    },
    {
      "cell_type": "code",
      "metadata": {
        "id": "qtfHzXhSEZ8r",
        "colab": {
          "base_uri": "https://localhost:8080/"
        },
        "outputId": "f11f7389-59a6-4523-cf5f-dc728bbf7e2c"
      },
      "source": [
        "def f(n):\r\n",
        "    if n == 0:\r\n",
        "        return 0\r\n",
        "    else:\r\n",
        "        return f(n - 1) + 10\r\n",
        "\r\n",
        "print(f(5))\r\n",
        "\r\n",
        "a = \"Rooose\"\r\n",
        "s = {i for i in a}\r\n",
        "print(len(s))"
      ],
      "execution_count": 17,
      "outputs": [
        {
          "output_type": "stream",
          "text": [
            "50\n",
            "4\n"
          ],
          "name": "stdout"
        }
      ]
    },
    {
      "cell_type": "markdown",
      "metadata": {
        "id": "MnBiveUdk4CP"
      },
      "source": [
        "# Demonstration for TDD approach\r\n",
        "\r\n",
        "## CurrencyConverter Test"
      ]
    },
    {
      "cell_type": "markdown",
      "metadata": {
        "id": "eQbnf4NtoPBq"
      },
      "source": [
        "### pytest is a unit test library for python"
      ]
    },
    {
      "cell_type": "code",
      "metadata": {
        "id": "OzM6ONbZlOQD"
      },
      "source": [
        "pip install pytest"
      ],
      "execution_count": null,
      "outputs": []
    },
    {
      "cell_type": "code",
      "metadata": {
        "id": "OU9nIdAHk_PI"
      },
      "source": [
        "import pytest\r\n",
        "# from commons.currency_converter import CurrencyConverter\r\n",
        "\r\n",
        "\r\n",
        "def test_currency_type_check():\r\n",
        "    assert issubclass(type(CurrencyConverter.usd_to_inr(1)), object)\r\n",
        "\r\n",
        "def test_usd_to_inr_converter():\r\n",
        "    assert CurrencyConverter.usd_to_inr(1) == \"Rs.75\""
      ],
      "execution_count": null,
      "outputs": []
    },
    {
      "cell_type": "markdown",
      "metadata": {
        "id": "Mswv0f18lCFw"
      },
      "source": [
        "# Implementation of Test Class using TDD approach"
      ]
    },
    {
      "cell_type": "code",
      "metadata": {
        "id": "lMja4XollFe5"
      },
      "source": [
        "\"\"\"\r\n",
        "Currency Converter methods\r\n",
        "\"\"\"\r\n",
        "\r\n",
        "\r\n",
        "class CurrencyConverter:\r\n",
        "    \"\"\"\r\n",
        "    This is a converter class\r\n",
        "    \"\"\"\r\n",
        "    _INR_VALUE = 75\r\n",
        "\r\n",
        "    @classmethod\r\n",
        "    def usd_to_inr(cls, number):\r\n",
        "        return \"Rs.\" + str(number * cls._INR_VALUE)\r\n",
        "\r\n",
        "\r\n",
        "converter = CurrencyConverter.usd_to_inr(3)\r\n",
        "print(converter)"
      ],
      "execution_count": null,
      "outputs": []
    }
  ]
}