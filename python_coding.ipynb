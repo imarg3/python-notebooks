{
  "nbformat": 4,
  "nbformat_minor": 0,
  "metadata": {
    "colab": {
      "name": "python-coding.ipynb",
      "provenance": [],
      "collapsed_sections": [],
      "authorship_tag": "ABX9TyNDDIJccoI3/39xcjfitEBN",
      "include_colab_link": true
    },
    "kernelspec": {
      "name": "python3",
      "display_name": "Python 3"
    }
  },
  "cells": [
    {
      "cell_type": "markdown",
      "metadata": {
        "id": "view-in-github",
        "colab_type": "text"
      },
      "source": [
        "<a href=\"https://colab.research.google.com/github/imarg3/python-notebooks/blob/main/python_coding.ipynb\" target=\"_parent\"><img src=\"https://colab.research.google.com/assets/colab-badge.svg\" alt=\"Open In Colab\"/></a>"
      ]
    },
    {
      "cell_type": "markdown",
      "metadata": {
        "id": "YMpYU5jPdEXc"
      },
      "source": [
        "# **Introduction**\n",
        "\n",
        "Python is an interpreted, high-level and general-purpose programming language. Python's design philosophy emphasizes code readability with its notable use of significant whitespace.\n",
        "\n",
        "All the code written & tested using *Python 3* version\n",
        "\n",
        "Here is the first typical **Hello World** example using Python :\n",
        "\n"
      ]
    },
    {
      "cell_type": "code",
      "metadata": {
        "id": "oE9lEwR6AJls",
        "colab": {
          "base_uri": "https://localhost:8080/"
        },
        "outputId": "5e256979-a1e6-4d9b-a685-a3d1f500d09e"
      },
      "source": [
        "print(\"Hello Arpit!\")"
      ],
      "execution_count": null,
      "outputs": [
        {
          "output_type": "stream",
          "text": [
            "Hello Arpit!\n"
          ],
          "name": "stdout"
        }
      ]
    },
    {
      "cell_type": "markdown",
      "metadata": {
        "id": "uMGxacIfnP76"
      },
      "source": [
        "### Check your allocated space on Google Colab"
      ]
    },
    {
      "cell_type": "code",
      "metadata": {
        "id": "Dk9TgTJmmsT0"
      },
      "source": [
        "import subprocess\n",
        "p = subprocess.Popen('df -h', shell=True, stdout=subprocess.PIPE)\n",
        "print(str(p.communicate()[0], 'utf-8'))"
      ],
      "execution_count": null,
      "outputs": []
    },
    {
      "cell_type": "markdown",
      "metadata": {
        "id": "2yjvWP54TbS6"
      },
      "source": [
        "Some Python Code Examples"
      ]
    },
    {
      "cell_type": "code",
      "metadata": {
        "id": "mQddqEGmyCl3"
      },
      "source": [
        "add = lambda x, y : x + y\n",
        "add(2, 3)"
      ],
      "execution_count": null,
      "outputs": []
    },
    {
      "cell_type": "code",
      "metadata": {
        "id": "s7z-oHgKGGsv"
      },
      "source": [
        "dict = {'a': 1, 'b': 2, 'c': 3}\n",
        "len(dict)"
      ],
      "execution_count": null,
      "outputs": []
    },
    {
      "cell_type": "markdown",
      "metadata": {
        "id": "FFrM6nIbd7Gh"
      },
      "source": [
        "**Simplest way to reverse a string**"
      ]
    },
    {
      "cell_type": "code",
      "metadata": {
        "colab": {
          "base_uri": "https://localhost:8080/"
        },
        "id": "XhuBuDeWzylj",
        "outputId": "50fb6a8c-08ba-4854-b3c1-94d8e8b46256"
      },
      "source": [
        "str = \"google\"[::-1]\r\n",
        "print(str)"
      ],
      "execution_count": null,
      "outputs": [
        {
          "output_type": "stream",
          "text": [
            "elgoog\n"
          ],
          "name": "stdout"
        }
      ]
    },
    {
      "cell_type": "markdown",
      "metadata": {
        "id": "9pAzzXxKeCcu"
      },
      "source": [
        "**Classes in Python**"
      ]
    },
    {
      "cell_type": "code",
      "metadata": {
        "colab": {
          "base_uri": "https://localhost:8080/"
        },
        "id": "3dpLmgrYzsKs",
        "outputId": "1c2bb809-07c5-4c36-a27c-b40a28842db3"
      },
      "source": [
        "class Person:\r\n",
        "  type = 'person'\r\n",
        "\r\n",
        "  def __init__(self, firstname, lastname):\r\n",
        "    self.firstname = firstname\r\n",
        "    self.lastname = lastname\r\n",
        "\r\n",
        "  @classmethod\r\n",
        "  def test(cls, firstname, lastname):\r\n",
        "    cls.firstname = firstname\r\n",
        "    cls.lastname = lastname\r\n",
        "\r\n",
        "person = Person('Arpit', 'Gupta')\r\n",
        "\r\n",
        "print(Person.type)\r\n",
        "\r\n",
        "print(person.firstname)"
      ],
      "execution_count": null,
      "outputs": [
        {
          "output_type": "stream",
          "text": [
            "person\n",
            "Arpit\n"
          ],
          "name": "stdout"
        }
      ]
    },
    {
      "cell_type": "markdown",
      "metadata": {
        "id": "PqXEXJfkTy3v"
      },
      "source": [
        "# Functional Programming in Python\n",
        "\n",
        "## Functions Applied to Functions\n",
        "\n",
        "We can supply functions as arguments to other functions."
      ]
    },
    {
      "cell_type": "code",
      "metadata": {
        "colab": {
          "base_uri": "https://localhost:8080/"
        },
        "id": "5sP-AVp_9v1y",
        "outputId": "0316bcd1-cb91-4bf7-9408-59ef26d1aed0"
      },
      "source": [
        "def multi_by_five(x):\r\n",
        "  return 5 * x\r\n",
        "\r\n",
        "def call(fn, arg):\r\n",
        "  \"\"\"Call fn on arg\"\"\"\r\n",
        "  return fn(arg)\r\n",
        "\r\n",
        "def squared_Call(fn, arg):\r\n",
        "  \"\"\"Call fn on the result of calling fn on arg\"\"\"\r\n",
        "  return fn(fn(arg))\r\n",
        "\r\n",
        "print(call(multi_by_five, 1), squared_Call(multi_by_five, 1), sep=\"\\n\")"
      ],
      "execution_count": null,
      "outputs": [
        {
          "output_type": "stream",
          "text": [
            "5\n",
            "25\n"
          ],
          "name": "stdout"
        }
      ]
    },
    {
      "cell_type": "markdown",
      "metadata": {
        "id": "Y_HbnSa4_ADO"
      },
      "source": [
        "Functions that operate on other functions are called \"Higher order functions\". You probably won't write your own for a little while. But there are higher order functions built into Python that you might find useful to call.\r\n",
        "\r\n",
        "Here's an interesting example using the max function.\r\n",
        "\r\n",
        "By default, max returns the largest of its arguments. But if we pass in a function using the optional key argument, it returns the argument x that maximizes key(x) (aka the 'argmax')."
      ]
    },
    {
      "cell_type": "code",
      "metadata": {
        "colab": {
          "base_uri": "https://localhost:8080/"
        },
        "id": "Tf9AuysG_Y4I",
        "outputId": "9d692f63-f4c0-466f-8030-e248bc95ad30"
      },
      "source": [
        "def mod_5(x):\r\n",
        "    \"\"\"Return the remainder of x after dividing by 5\"\"\"\r\n",
        "    return x % 5\r\n",
        "\r\n",
        "print(\r\n",
        "    'Which number is biggest?',\r\n",
        "    max(100, 51, 14),\r\n",
        "    'Which number is the biggest modulo 5?',\r\n",
        "    max(100, 51, 14, key=mod_5),\r\n",
        "    sep='\\n',\r\n",
        ")"
      ],
      "execution_count": null,
      "outputs": [
        {
          "output_type": "stream",
          "text": [
            "Which number is biggest?\n",
            "100\n",
            "Which number is the biggest modulo 5?\n",
            "14\n"
          ],
          "name": "stdout"
        }
      ]
    },
    {
      "cell_type": "markdown",
      "metadata": {
        "id": "xJBWg7UlWH7Y"
      },
      "source": [
        "**filter()**\n",
        "\n",
        "Filter lets us filter in some values based on conditional logic."
      ]
    },
    {
      "cell_type": "code",
      "metadata": {
        "colab": {
          "base_uri": "https://localhost:8080/"
        },
        "id": "VGKa0sgvT--5",
        "outputId": "647c40a5-2907-4dcf-992c-e0cf6c2198ea"
      },
      "source": [
        "list(filter(lambda x: x>5, range(8)))"
      ],
      "execution_count": null,
      "outputs": [
        {
          "output_type": "execute_result",
          "data": {
            "text/plain": [
              "[6, 7]"
            ]
          },
          "metadata": {
            "tags": []
          },
          "execution_count": 3
        }
      ]
    },
    {
      "cell_type": "markdown",
      "metadata": {
        "id": "t9IZVE7uWcuy"
      },
      "source": [
        "**map()**\n",
        "\n",
        "Map applies a function to every element in an iterable."
      ]
    },
    {
      "cell_type": "code",
      "metadata": {
        "colab": {
          "base_uri": "https://localhost:8080/"
        },
        "id": "Gh1aMy9DWqA4",
        "outputId": "df7c525e-a094-46d0-eb8c-c5fcb6810ed2"
      },
      "source": [
        "list(map(lambda x: x**2, range(10)))"
      ],
      "execution_count": null,
      "outputs": [
        {
          "output_type": "execute_result",
          "data": {
            "text/plain": [
              "[0, 1, 4, 9, 16, 25, 36, 49, 64, 81]"
            ]
          },
          "metadata": {
            "tags": []
          },
          "execution_count": 17
        }
      ]
    },
    {
      "cell_type": "markdown",
      "metadata": {
        "id": "Rla9kMFPXAqB"
      },
      "source": [
        "**reduce()**\n",
        "\n",
        "Reduce repeatedly reduces a sequence pair-wise until we reach a single value."
      ]
    },
    {
      "cell_type": "code",
      "metadata": {
        "colab": {
          "base_uri": "https://localhost:8080/"
        },
        "id": "i51PyfLzXF1h",
        "outputId": "85687648-6c0f-4e56-e751-88a54309e0e5"
      },
      "source": [
        "from functools import reduce\n",
        "reduce(lambda x, y : x - y, [1,2,3,4,5])"
      ],
      "execution_count": null,
      "outputs": [
        {
          "output_type": "execute_result",
          "data": {
            "text/plain": [
              "-13"
            ]
          },
          "metadata": {
            "tags": []
          },
          "execution_count": 5
        }
      ]
    },
    {
      "cell_type": "code",
      "metadata": {
        "id": "jXTvcJjYDdD8",
        "colab": {
          "base_uri": "https://localhost:8080/"
        },
        "outputId": "391a858e-57ad-41c3-8f85-d69af4a2624f"
      },
      "source": [
        "x = [9,8,2]\r\n",
        "y = x.remove(2)\r\n",
        "z = print(1, end=\" \")\r\n",
        "\r\n",
        "if y or z:\r\n",
        "  print(1)\r\n",
        "else:\r\n",
        "  print(2)\r\n",
        "\r\n"
      ],
      "execution_count": null,
      "outputs": [
        {
          "output_type": "stream",
          "text": [
            "1 2\n"
          ],
          "name": "stdout"
        }
      ]
    },
    {
      "cell_type": "code",
      "metadata": {
        "colab": {
          "base_uri": "https://localhost:8080/"
        },
        "id": "uToUc-UgOHMj",
        "outputId": "4b984542-2af2-419a-d1ec-cbba1103f019"
      },
      "source": [
        "pip install wikipedia"
      ],
      "execution_count": null,
      "outputs": [
        {
          "output_type": "stream",
          "text": [
            "Collecting wikipedia\n",
            "  Downloading https://files.pythonhosted.org/packages/67/35/25e68fbc99e672127cc6fbb14b8ec1ba3dfef035bf1e4c90f78f24a80b7d/wikipedia-1.4.0.tar.gz\n",
            "Requirement already satisfied: beautifulsoup4 in /usr/local/lib/python3.6/dist-packages (from wikipedia) (4.6.3)\n",
            "Requirement already satisfied: requests<3.0.0,>=2.0.0 in /usr/local/lib/python3.6/dist-packages (from wikipedia) (2.23.0)\n",
            "Requirement already satisfied: idna<3,>=2.5 in /usr/local/lib/python3.6/dist-packages (from requests<3.0.0,>=2.0.0->wikipedia) (2.10)\n",
            "Requirement already satisfied: chardet<4,>=3.0.2 in /usr/local/lib/python3.6/dist-packages (from requests<3.0.0,>=2.0.0->wikipedia) (3.0.4)\n",
            "Requirement already satisfied: urllib3!=1.25.0,!=1.25.1,<1.26,>=1.21.1 in /usr/local/lib/python3.6/dist-packages (from requests<3.0.0,>=2.0.0->wikipedia) (1.24.3)\n",
            "Requirement already satisfied: certifi>=2017.4.17 in /usr/local/lib/python3.6/dist-packages (from requests<3.0.0,>=2.0.0->wikipedia) (2020.12.5)\n",
            "Building wheels for collected packages: wikipedia\n",
            "  Building wheel for wikipedia (setup.py) ... \u001b[?25l\u001b[?25hdone\n",
            "  Created wheel for wikipedia: filename=wikipedia-1.4.0-cp36-none-any.whl size=11686 sha256=e88732df15c3b144a187ae8d5f757620d0291a4da4b5a231ca4e7c5b490b5cd3\n",
            "  Stored in directory: /root/.cache/pip/wheels/87/2a/18/4e471fd96d12114d16fe4a446d00c3b38fb9efcb744bd31f4a\n",
            "Successfully built wikipedia\n",
            "Installing collected packages: wikipedia\n",
            "Successfully installed wikipedia-1.4.0\n"
          ],
          "name": "stdout"
        }
      ]
    },
    {
      "cell_type": "code",
      "metadata": {
        "id": "W_PSET6gOcRq",
        "colab": {
          "base_uri": "https://localhost:8080/"
        },
        "outputId": "118bbb89-17eb-4a79-c23d-1aca3859752f"
      },
      "source": [
        "import wikipedia\r\n",
        "\r\n",
        "result = wikipedia.summary(\"computer software\")\r\n",
        "print(result)"
      ],
      "execution_count": null,
      "outputs": [
        {
          "output_type": "stream",
          "text": [
            "Software is a collection of instructions and data that tell the computer how to work. This is in contrast to physical hardware, from which the system is built and actually performs the work. In computer science and software engineering, computer software is all information processed by computer systems, including programs and data. Computer software includes computer programs, libraries and related non-executable data, such as online documentation or digital media. Computer hardware and software require each other and neither can be realistically used on its own.\n",
            "At the lowest programming level, executable code consists of machine language instructions supported by an individual processor—typically a central processing unit (CPU) or a graphics processing unit (GPU). A machine language consists of groups of binary values signifying processor instructions that change the state of the computer from its preceding state. For example, an instruction may change the value stored in a particular storage location in the computer—an effect that is not directly observable to the user. An instruction may also invoke one of many input or output operations, for example displaying some text on a computer screen; causing state changes which should be visible to the user. The processor executes the instructions in the order they are provided, unless it is instructed to \"jump\" to a different instruction, or is interrupted by the operating system. As of 2015, most personal computers, smartphone devices and servers have processors with multiple execution units or multiple processors performing computation together, and computing has become a much more concurrent activity than in the past.\n",
            "The majority of software is written in high-level programming languages. They are easier and more efficient for programmers because they are closer to natural languages than machine languages. High-level languages are translated into machine language using a compiler or an interpreter or a combination of the two. Software may also be written in a low-level assembly language, which has strong correspondence to the computer's machine language instructions and is translated into machine language using an assembler.\n"
          ],
          "name": "stdout"
        }
      ]
    },
    {
      "cell_type": "code",
      "metadata": {
        "colab": {
          "base_uri": "https://localhost:8080/"
        },
        "id": "qtfHzXhSEZ8r",
        "outputId": "9ae56884-6456-4794-8b97-366a5666a1b5"
      },
      "source": [
        "def f(n):\r\n",
        "    if n == 0:\r\n",
        "        return 0\r\n",
        "    else:\r\n",
        "        return f(n - 1) + 10\r\n",
        "\r\n",
        "print(f(5))\r\n",
        "\r\n",
        "a = \"Rooose\"\r\n",
        "s = {i for i in a}\r\n",
        "print(len(s))"
      ],
      "execution_count": null,
      "outputs": [
        {
          "output_type": "stream",
          "text": [
            "50\n",
            "4\n"
          ],
          "name": "stdout"
        }
      ]
    }
  ]
}