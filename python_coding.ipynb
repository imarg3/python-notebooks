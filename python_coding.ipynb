{
  "nbformat": 4,
  "nbformat_minor": 0,
  "metadata": {
    "colab": {
      "name": "python-coding.ipynb",
      "provenance": [],
      "collapsed_sections": [],
      "authorship_tag": "ABX9TyMCiRJlZ6qiHtHDMCBcLLg/",
      "include_colab_link": true
    },
    "kernelspec": {
      "name": "python3",
      "display_name": "Python 3"
    }
  },
  "cells": [
    {
      "cell_type": "markdown",
      "metadata": {
        "id": "view-in-github",
        "colab_type": "text"
      },
      "source": [
        "<a href=\"https://colab.research.google.com/github/imarg3/python-notebooks/blob/main/python_coding.ipynb\" target=\"_parent\"><img src=\"https://colab.research.google.com/assets/colab-badge.svg\" alt=\"Open In Colab\"/></a>"
      ]
    },
    {
      "cell_type": "markdown",
      "metadata": {
        "id": "YMpYU5jPdEXc"
      },
      "source": [
        "# **Introduction**\n",
        "\n",
        "Python is an interpreted, high-level and general-purpose programming language. Python's design philosophy emphasizes code readability with its notable use of significant whitespace.\n",
        "\n",
        "All the code written & tested using *Python 3* version\n",
        "\n",
        "Here is the first typical **Hello World** example using Python :\n",
        "\n"
      ]
    },
    {
      "cell_type": "code",
      "metadata": {
        "id": "oE9lEwR6AJls",
        "colab": {
          "base_uri": "https://localhost:8080/"
        },
        "outputId": "5e256979-a1e6-4d9b-a685-a3d1f500d09e"
      },
      "source": [
        "print(\"Hello Arpit!\")"
      ],
      "execution_count": null,
      "outputs": [
        {
          "output_type": "stream",
          "text": [
            "Hello Arpit!\n"
          ],
          "name": "stdout"
        }
      ]
    },
    {
      "cell_type": "markdown",
      "metadata": {
        "id": "uMGxacIfnP76"
      },
      "source": [
        "## Check your allocated space on Google Colab"
      ]
    },
    {
      "cell_type": "code",
      "metadata": {
        "id": "Dk9TgTJmmsT0"
      },
      "source": [
        "import subprocess\n",
        "p = subprocess.Popen('df -h', shell=True, stdout=subprocess.PIPE)\n",
        "print(str(p.communicate()[0], 'utf-8'))"
      ],
      "execution_count": null,
      "outputs": []
    },
    {
      "cell_type": "markdown",
      "metadata": {
        "id": "2yjvWP54TbS6"
      },
      "source": [
        "Some Python Code Examples"
      ]
    },
    {
      "cell_type": "code",
      "metadata": {
        "id": "mQddqEGmyCl3"
      },
      "source": [
        "add = lambda x, y : x + y\n",
        "add(2, 3)"
      ],
      "execution_count": null,
      "outputs": []
    },
    {
      "cell_type": "code",
      "metadata": {
        "id": "s7z-oHgKGGsv"
      },
      "source": [
        "dict = {'a': 1, 'b': 2, 'c': 3}\n",
        "len(dict)"
      ],
      "execution_count": null,
      "outputs": []
    },
    {
      "cell_type": "markdown",
      "metadata": {
        "id": "FFrM6nIbd7Gh"
      },
      "source": [
        "**Simplest way to reverse a string**"
      ]
    },
    {
      "cell_type": "code",
      "metadata": {
        "colab": {
          "base_uri": "https://localhost:8080/"
        },
        "id": "XhuBuDeWzylj",
        "outputId": "50fb6a8c-08ba-4854-b3c1-94d8e8b46256"
      },
      "source": [
        "str = \"google\"[::-1]\r\n",
        "print(str)"
      ],
      "execution_count": null,
      "outputs": [
        {
          "output_type": "stream",
          "text": [
            "elgoog\n"
          ],
          "name": "stdout"
        }
      ]
    },
    {
      "cell_type": "markdown",
      "metadata": {
        "id": "9pAzzXxKeCcu"
      },
      "source": [
        "**Classes in Python**"
      ]
    },
    {
      "cell_type": "code",
      "metadata": {
        "colab": {
          "base_uri": "https://localhost:8080/"
        },
        "id": "3dpLmgrYzsKs",
        "outputId": "1c2bb809-07c5-4c36-a27c-b40a28842db3"
      },
      "source": [
        "class Person:\r\n",
        "  type = 'person'\r\n",
        "\r\n",
        "  def __init__(self, firstname, lastname):\r\n",
        "    self.firstname = firstname\r\n",
        "    self.lastname = lastname\r\n",
        "\r\n",
        "  @classmethod\r\n",
        "  def test(cls, firstname, lastname):\r\n",
        "    cls.firstname = firstname\r\n",
        "    cls.lastname = lastname\r\n",
        "\r\n",
        "person = Person('Arpit', 'Gupta')\r\n",
        "\r\n",
        "print(Person.type)\r\n",
        "\r\n",
        "print(person.firstname)"
      ],
      "execution_count": null,
      "outputs": [
        {
          "output_type": "stream",
          "text": [
            "person\n",
            "Arpit\n"
          ],
          "name": "stdout"
        }
      ]
    },
    {
      "cell_type": "markdown",
      "metadata": {
        "id": "PqXEXJfkTy3v"
      },
      "source": [
        "# Functional Programming in Python\n"
      ]
    },
    {
      "cell_type": "markdown",
      "metadata": {
        "id": "xJBWg7UlWH7Y"
      },
      "source": [
        "**filter()**\n",
        "\n",
        "Filter lets us filter in some values based on conditional logic."
      ]
    },
    {
      "cell_type": "code",
      "metadata": {
        "colab": {
          "base_uri": "https://localhost:8080/"
        },
        "id": "VGKa0sgvT--5",
        "outputId": "647c40a5-2907-4dcf-992c-e0cf6c2198ea"
      },
      "source": [
        "list(filter(lambda x: x>5, range(8)))"
      ],
      "execution_count": null,
      "outputs": [
        {
          "output_type": "execute_result",
          "data": {
            "text/plain": [
              "[6, 7]"
            ]
          },
          "metadata": {
            "tags": []
          },
          "execution_count": 3
        }
      ]
    },
    {
      "cell_type": "markdown",
      "metadata": {
        "id": "t9IZVE7uWcuy"
      },
      "source": [
        "**map()**\n",
        "\n",
        "Map applies a function to every element in an iterable."
      ]
    },
    {
      "cell_type": "code",
      "metadata": {
        "colab": {
          "base_uri": "https://localhost:8080/"
        },
        "id": "Gh1aMy9DWqA4",
        "outputId": "8e62f633-e16c-4d96-f928-504a314a74ec"
      },
      "source": [
        "list(map(lambda x: x**2, range(10)))"
      ],
      "execution_count": null,
      "outputs": [
        {
          "output_type": "execute_result",
          "data": {
            "text/plain": [
              "[0, 1, 4, 9, 16, 25, 36, 49, 64, 81]"
            ]
          },
          "metadata": {
            "tags": []
          },
          "execution_count": 4
        }
      ]
    },
    {
      "cell_type": "markdown",
      "metadata": {
        "id": "Rla9kMFPXAqB"
      },
      "source": [
        "**reduce()**\n",
        "\n",
        "Reduce repeatedly reduces a sequence pair-wise until we reach a single value."
      ]
    },
    {
      "cell_type": "code",
      "metadata": {
        "colab": {
          "base_uri": "https://localhost:8080/"
        },
        "id": "i51PyfLzXF1h",
        "outputId": "85687648-6c0f-4e56-e751-88a54309e0e5"
      },
      "source": [
        "from functools import reduce\n",
        "reduce(lambda x, y : x - y, [1,2,3,4,5])"
      ],
      "execution_count": null,
      "outputs": [
        {
          "output_type": "execute_result",
          "data": {
            "text/plain": [
              "-13"
            ]
          },
          "metadata": {
            "tags": []
          },
          "execution_count": 5
        }
      ]
    }
  ]
}