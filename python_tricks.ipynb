{
  "nbformat": 4,
  "nbformat_minor": 0,
  "metadata": {
    "colab": {
      "name": "python-tricks.ipynb",
      "provenance": [],
      "collapsed_sections": [
        "9vKK1cunyjw4",
        "ZRZ1M77enH-c",
        "gTTPpWRgotqe",
        "PvJXmmmhpMfg",
        "n7FLXdx2qmT_",
        "MVSoy2t-xetO",
        "ZJrjA7WEx6o0",
        "GHNX_P1_ysUR",
        "-TgCMtEoysSV",
        "1BPIawzHSkXK",
        "2KDzGr7JS0cK",
        "UvVRZVW07bUx",
        "S_e-QInS9v0M",
        "3T-Lnu9z_TdH",
        "AYRIOE3l_5Pr",
        "j91Qs7G2_5OD",
        "mVc2WTHfAx4l",
        "d5n6J6STBO6H",
        "PTant-3aik5n",
        "57C6Pp3sSD0P"
      ],
      "authorship_tag": "ABX9TyODEw2nkBi67u3eM1m7diNn"
    },
    "kernelspec": {
      "name": "python3",
      "display_name": "Python 3"
    }
  },
  "cells": [
    {
      "cell_type": "markdown",
      "metadata": {
        "id": "hC-s1uAskxt4"
      },
      "source": [
        "# Check your Python version\n",
        "\n",
        "All the code snippets below are written, executed & tested using [Python version 3.6.9](https://docs.python.org/3/)"
      ]
    },
    {
      "cell_type": "code",
      "metadata": {
        "colab": {
          "base_uri": "https://localhost:8080/"
        },
        "id": "tX51upuFkYHz",
        "outputId": "10fff33b-bfab-46fb-d7b5-eb6abce3d2e6"
      },
      "source": [
        "import sys\n",
        "print(\"Python version\")\n",
        "print (sys.version)\n",
        "print(\"Version info.\")\n",
        "print (sys.version_info)"
      ],
      "execution_count": null,
      "outputs": [
        {
          "output_type": "stream",
          "text": [
            "Python version\n",
            "3.6.9 (default, Oct  8 2020, 12:12:24) \n",
            "[GCC 8.4.0]\n",
            "Version info.\n",
            "sys.version_info(major=3, minor=6, micro=9, releaselevel='final', serial=0)\n"
          ],
          "name": "stdout"
        }
      ]
    },
    {
      "cell_type": "markdown",
      "metadata": {
        "id": "L_BGbU8w2bA9"
      },
      "source": [
        "# Avoid version conflicts with Virtual Environments\r\n",
        "Virtual Environments (\"virtualenvs\") keep your project dependencies separated. They help you avoid version conflicts between packages and different versions of the Python runtime.\r\n",
        "\r\n",
        "### Before creating & activating a virtualenv:\r\n",
        "`python` and `pip` map to the system version of the Python interpreter (e.g. Python 2.7)\r\n",
        "\r\n",
        "```\r\n",
        "$ which python\r\n",
        "/usr/local/bin/python\r\n",
        "```\r\n",
        "\r\n",
        "Let's create a fresh virtualenv using another version of Python (Python 3):\r\n",
        "\r\n",
        "`$ python3 -m venv ./venv`\r\n",
        "\r\n",
        "A virtualenv is just a \"Python environment in a folder\":\r\n",
        "\r\n",
        "```\r\n",
        "$ ls ./venv\r\n",
        "bin      include    lib      pyvenv.cfg\r\n",
        "```\r\n",
        "\r\n",
        "Activating a virtualenv configures the current shell session to use the python\r\n",
        " (and pip) commands from the virtualenv folder instead of the global environment:\r\n",
        "\r\n",
        "`$ source ./venv/bin/activate`\r\n",
        "\r\n",
        "Note how activating a virtualenv modifies your shell prompt with a little note\r\n",
        " showing the name of the virtualenv folder:\r\n",
        "\r\n",
        "`(venv) $ echo \"wee!\"`\r\n",
        "\r\n",
        "With an active virtualenv, the `python` command maps to the interpreter binary\r\n",
        " *inside the active virtualenv*:\r\n",
        "\r\n",
        " ```\r\n",
        "(venv) $ which python\r\n",
        "/Users/arpit/my-project/venv/bin/python3\r\n",
        "```\r\n",
        "\r\n",
        "Installing new libraries and frameworks with `pip` now installs them *into the\r\n",
        " virtualenv sandbox*, leaving your global environment (and any other virtualenvs) completely unmodified:\r\n",
        "\r\n",
        "`(venv) $ pip install requests`\r\n",
        "\r\n",
        "To get back to the global Python environment, run the following command:\r\n",
        "\r\n",
        "`(venv) $ deactivate`\r\n",
        "\r\n",
        "(See how the prompt changed back to \"normal\" again?)\r\n",
        "\r\n",
        "`$ echo \"yay!\"`\r\n",
        "\r\n",
        "Deactivating the virtualenv flipped the `python` and `pip` commands back to\r\n",
        " the global environment:\r\n",
        "\r\n",
        "```\r\n",
        "$ which python\r\n",
        "/usr/local/bin/python\r\n",
        "```"
      ]
    },
    {
      "cell_type": "markdown",
      "metadata": {
        "id": "4uUxrKUvfNQi"
      },
      "source": [
        "# How to merge two dictionaries in Python 3.5+.\n",
        "\n",
        "Python merges dictionary keys in the order listed in the expression, overwriting duplicates from left to right."
      ]
    },
    {
      "cell_type": "code",
      "metadata": {
        "id": "GfdEFGomfBDs"
      },
      "source": [
        "x = {'a': 1, 'b': 2}\n",
        "y = {'b': 3, 'c': 4}\n",
        "z = {**x, **y}\n",
        "z\n",
        "\n",
        "# Python >= 3.9 only\n",
        "# merged = dict1 | dict2"
      ],
      "execution_count": null,
      "outputs": []
    },
    {
      "cell_type": "markdown",
      "metadata": {
        "id": "t5nBDKv4gUSN"
      },
      "source": [
        "# Different ways to test multiple flags at once in Python"
      ]
    },
    {
      "cell_type": "code",
      "metadata": {
        "id": "HHibZ38JgTos"
      },
      "source": [
        "x, y, z = 0, 1, 0\n",
        "\n",
        "if x == 1 or y == 1 or z == 1:\n",
        "    print('passed 1')\n",
        "\n",
        "if 1 in (x, y, z):\n",
        "  print('passed 2')\n",
        "\n",
        "# These only test for truthiness:\n",
        "if x or y or z:\n",
        "    print('passed 3')\n",
        "\n",
        "if any((x, y, z)):\n",
        "    print('passed 4')\n"
      ],
      "execution_count": null,
      "outputs": []
    },
    {
      "cell_type": "markdown",
      "metadata": {
        "id": "3bWBw-fTrxcA"
      },
      "source": [
        "# How to sort a Python dict by value"
      ]
    },
    {
      "cell_type": "code",
      "metadata": {
        "id": "jboduCSfrwFt"
      },
      "source": [
        "# How to sort a Python dict by value\n",
        "# (== get a representation sorted by value)\n",
        "\n",
        "xs = {'a': 4, 'b': 3, 'c': 2, 'd': 1}\n",
        "sorted(xs.items(), key = lambda x: x[1])\n",
        "\n",
        "# Or:\n",
        "\n",
        "import operator\n",
        "sorted(xs.items(), key=operator.itemgetter(1))"
      ],
      "execution_count": null,
      "outputs": []
    },
    {
      "cell_type": "markdown",
      "metadata": {
        "id": "KUsvC7yiufHP"
      },
      "source": [
        "# The get() method on Python dicts and its \"default\" arg"
      ]
    },
    {
      "cell_type": "code",
      "metadata": {
        "id": "_tNGEoVDujRr"
      },
      "source": [
        "# The get() method on dicts\n",
        "# and its \"default\" argument\n",
        "\n",
        "name_for_userid = {\n",
        "    382: \"Arpit\",\n",
        "    590: \"Ram\",\n",
        "    951: \"Gupta\",\n",
        "}\n",
        "\n",
        "def greeting(userid):\n",
        "    return \"Hi %s!\" % name_for_userid.get(userid, \"there\")\n",
        "\n",
        "greeting(382)\n",
        "\n",
        "# greeting(3333)"
      ],
      "execution_count": null,
      "outputs": []
    },
    {
      "cell_type": "markdown",
      "metadata": {
        "id": "8HxmDepPwTOO"
      },
      "source": [
        "# Python's namedtuples can be a great alternative to defining a class manually"
      ]
    },
    {
      "cell_type": "code",
      "metadata": {
        "id": "9V1uGszZwWPj"
      },
      "source": [
        "# Why Python is Great: Namedtuples\n",
        "# Using namedtuple is way shorter than\n",
        "# defining a class manually:\n",
        "\n",
        "from collections import namedtuple\n",
        "Car = namedtuple('Car', 'color mileage')\n",
        "\n",
        "# Our new \"Car\" class works as expected:\n",
        "my_car = Car('red', 3812.5)\n",
        "my_car.color\n",
        "my_car.mileage\n",
        "\n",
        "# We get a nice string repr for free:\n",
        "my_car\n",
        "\n",
        "# Like tuples, namedtuples are immutable:\n",
        "# my_car.color = 'blue'\n",
        "# AttributeError: \"can't set attribute\""
      ],
      "execution_count": null,
      "outputs": []
    },
    {
      "cell_type": "markdown",
      "metadata": {
        "id": "_9LvtCbryUFL"
      },
      "source": [
        "# The Zen of Python\r\n",
        "\r\n",
        "One of the earliest Python pep’s is PEP-20. It’s a list of 19 theses relating to Python programming called ‘The Zen of Python.’ These rules date back to 2004 and are in turn based on PEP-8. Try running \"import this\" inside a Python REPL ...\r\n",
        "\r\n",
        "A little Easter egg that has been present in Python for a long time lists these 19 rules:"
      ]
    },
    {
      "cell_type": "code",
      "metadata": {
        "id": "Gl-q5JYfyWRy"
      },
      "source": [
        "import this"
      ],
      "execution_count": null,
      "outputs": []
    },
    {
      "cell_type": "markdown",
      "metadata": {
        "id": "3T-Lnu9z_TdH"
      },
      "source": [
        "# Lambda Functions\r\n",
        "\r\n",
        "Sometimes, naming a function is not worth the trouble. For example when you’re sure the function will only be used once. For such cases, Python offers us anonymous functions, also called lambda functions.\r\n",
        "\r\n",
        "A lambda function can be assigned to a variable, creating a concise way of defining a function:"
      ]
    },
    {
      "cell_type": "code",
      "metadata": {
        "id": "tPbC8S2p_VUC"
      },
      "source": [
        "# The lambda keyword in Python provides a\r\n",
        "# shortcut for declaring small and \r\n",
        "# anonymous functions:\r\n",
        "\r\n",
        "add = lambda x, y: x + y\r\n",
        "add(5, 3)\r\n",
        "\r\n",
        "# You could declare the same add() \r\n",
        "# function with the def keyword:\r\n",
        "\r\n",
        "def add(x, y):\r\n",
        "    return x + y\r\n",
        "add(5, 3)\r\n",
        "\r\n",
        "# So what's the big fuss about?\r\n",
        "# Lambdas are *function expressions*:\r\n",
        "(lambda x, y: x + y)(5, 3)\r\n",
        "\r\n",
        "# • Lambda functions are single-expression functions that are not necessarily \r\n",
        "# bound to a name (they can be anonymous).\r\n",
        "\r\n",
        "# • Lambda functions can't use regular Python statements and always include an\r\n",
        "# implicit `return` statement."
      ],
      "execution_count": null,
      "outputs": []
    },
    {
      "cell_type": "markdown",
      "metadata": {
        "id": "DIsqdvuL9_hr"
      },
      "source": [
        "It gets more interesting when you need to use a function as an argument. In such cases, the function is often used only once. As you may know, map applies a function to all elements of an iterable object. We can use a lambda when calling map:"
      ]
    },
    {
      "cell_type": "code",
      "metadata": {
        "id": "ZWYj3l8H-W8S"
      },
      "source": [
        "numbers = [1, 2, 3, 4]\r\n",
        "times_two = map(lambda x: x * 2, numbers)\r\n",
        "list(times_two)"
      ],
      "execution_count": null,
      "outputs": []
    },
    {
      "cell_type": "markdown",
      "metadata": {
        "id": "9vKK1cunyjw4"
      },
      "source": [
        "# You can use \"json.dumps()\" to pretty-print Python dicts"
      ]
    },
    {
      "cell_type": "code",
      "metadata": {
        "id": "XQP5QN3uylWI"
      },
      "source": [
        "# The standard string repr for dicts is hard to read:\n",
        "my_mapping = {'a': 23, 'b': 42, 'c': 0xc0ffee}\n",
        "my_mapping\n",
        "\n",
        "# The \"json\" module can do a much better job:\n",
        "import json\n",
        "print(json.dumps(my_mapping, indent=4, sort_keys=True))\n",
        "\n",
        "# Note this only works with dicts containing\n",
        "# primitive types (check out the \"pprint\" module):\n",
        "# json.dumps({all: 'yup'})\n",
        "# TypeError: keys must be a string"
      ],
      "execution_count": null,
      "outputs": []
    },
    {
      "cell_type": "markdown",
      "metadata": {
        "id": "Rae52581zskj"
      },
      "source": [
        "# Function argument unpacking in Python"
      ]
    },
    {
      "cell_type": "code",
      "metadata": {
        "id": "rOc5DVvMzvOg"
      },
      "source": [
        "# Why Python Is Great:\n",
        "# Function argument unpacking\n",
        "def myfunc(x, y, z):\n",
        "  print(x, y, z)\n",
        "\n",
        "tuple_vec = (1, 0, 1)\n",
        "dict_vec = {'x': 1, 'y': 0, 'z': 1}\n",
        "\n",
        "# The *args and **kwargs is a common idiom to allow arbitrary number of arguments to functions\n",
        "\n",
        "# The *args will give you all function parameters as a tuple\n",
        "myfunc(*tuple_vec)\n",
        "\n",
        "# The **kwargs will give you all keyword arguments except for those corresponding to a formal parameter as a dictionary.\n",
        "myfunc(**dict_vec)"
      ],
      "execution_count": null,
      "outputs": []
    },
    {
      "cell_type": "markdown",
      "metadata": {
        "id": "-iJOeYTH3U8e"
      },
      "source": [
        "# Measure the execution time of small bits of Python code with the \"timeit\" module Inbox"
      ]
    },
    {
      "cell_type": "code",
      "metadata": {
        "id": "BVUhTDuc3Y_g"
      },
      "source": [
        "# The \"timeit\" module lets you measure the execution\n",
        "# time of small bits of Python code\n",
        "\n",
        "import timeit\n",
        "\n",
        "timeit.timeit('\"-\".join(str(n) for n in range(100))',\n",
        "                  number=10000)\n",
        "\n",
        "timeit.timeit('\"-\".join([str(n) for n in range(100)])',\n",
        "                  number=10000)\n",
        "\n",
        "timeit.timeit('\"-\".join(map(str, range(100)))',\n",
        "                  number=10000)"
      ],
      "execution_count": null,
      "outputs": []
    },
    {
      "cell_type": "markdown",
      "metadata": {
        "id": "02Pjz_Hw-dhS"
      },
      "source": [
        "# Tricky Question"
      ]
    },
    {
      "cell_type": "code",
      "metadata": {
        "id": "GMKkuKfYzhOy"
      },
      "source": [
        "x = [9,8,2]\n",
        "y = x.remove(2)\n",
        "z = print(1, end=\" \")\n",
        "\n",
        "if y or z:\n",
        "  print(1)\n",
        "else:\n",
        "  print(2)"
      ],
      "execution_count": null,
      "outputs": []
    },
    {
      "cell_type": "markdown",
      "metadata": {
        "id": "ZRZ1M77enH-c"
      },
      "source": [
        "# \"is\" vs \"==\""
      ]
    },
    {
      "cell_type": "code",
      "metadata": {
        "id": "4A99BmPLoKzW"
      },
      "source": [
        "a = [1, 2, 3]\r\n",
        "b = a\r\n",
        "\r\n",
        "a is b # True\r\n",
        "a == b # True\r\n",
        "\r\n",
        "c = list(a)\r\n",
        "a is c # False\r\n",
        "a == c # True\r\n",
        "\r\n",
        "# • \"is\" expressions evaluate to True if two \r\n",
        "#   variables point to the same object\r\n",
        "\r\n",
        "# • \"==\" evaluates to True if the objects \r\n",
        "#   referred to by the variables are equal"
      ],
      "execution_count": null,
      "outputs": []
    },
    {
      "cell_type": "markdown",
      "metadata": {
        "id": "gTTPpWRgotqe"
      },
      "source": [
        "# Functions are first-class citizens in Python"
      ]
    },
    {
      "cell_type": "markdown",
      "metadata": {
        "id": "PvJXmmmhpMfg"
      },
      "source": [
        "### They can be passed as arguments to other functions, returned as values from other functions, and assigned to variables and stored in data structures."
      ]
    },
    {
      "cell_type": "code",
      "metadata": {
        "id": "gDOTrlv8pIGt"
      },
      "source": [
        "def myfunc(a, b):\r\n",
        "  return a + b\r\n",
        "\r\n",
        "func = [myfunc]\r\n",
        "\r\n",
        "func[0](2, 3)"
      ],
      "execution_count": null,
      "outputs": []
    },
    {
      "cell_type": "markdown",
      "metadata": {
        "id": "n7FLXdx2qmT_"
      },
      "source": [
        "# Dicts can be used to emulate switch/case statements"
      ]
    },
    {
      "cell_type": "code",
      "metadata": {
        "id": "N0vDCNICqoW-"
      },
      "source": [
        "# Because Python has first-class functions they can\r\n",
        "# be used to emulate switch/case statements\r\n",
        "\r\n",
        "def dispatch_if(operator, x, y):\r\n",
        "  if operator == 'add':\r\n",
        "    return x + y\r\n",
        "  elif operator == 'sub':\r\n",
        "    return x - y\r\n",
        "  elif operator == 'mul':\r\n",
        "    return x * y\r\n",
        "  elif operator == 'div':\r\n",
        "    return x / y\r\n",
        "  else:\r\n",
        "    return None\r\n",
        "\r\n",
        "def dispatch_dict(operator,x, y):\r\n",
        "  return {\r\n",
        "      'add': lambda: x + y,\r\n",
        "      'sub': lambda: x - y,\r\n",
        "      'mul': lambda: x * y,\r\n",
        "      'div': lambda: x / y\r\n",
        "  }.get(operator, lambda: None)()\r\n",
        "\r\n",
        "dispatch_if('mul', 2, 8)\r\n",
        "dispatch_dict('mul', 3, 8)\r\n",
        "dispatch_if('unknown', 3, 4)"
      ],
      "execution_count": null,
      "outputs": []
    },
    {
      "cell_type": "markdown",
      "metadata": {
        "id": "MVSoy2t-xetO"
      },
      "source": [
        "# Python's built-in HTTP server"
      ]
    },
    {
      "cell_type": "code",
      "metadata": {
        "id": "BBoJU87bxgQS"
      },
      "source": [
        "# Python has a HTTP server built into the\r\n",
        "# standard library. This is super handy for\r\n",
        "# previewing websites.\r\n",
        "\r\n",
        "# Python 3.x\r\n",
        "python3 -m http.server\r\n",
        "\r\n",
        "# Python 2.x\r\n",
        "#python -m SimpleHTTPServer 8000\r\n",
        "\r\n",
        "# (This will serve the current directory at\r\n",
        "#  http://localhost:8000)"
      ],
      "execution_count": null,
      "outputs": []
    },
    {
      "cell_type": "markdown",
      "metadata": {
        "id": "ZJrjA7WEx6o0"
      },
      "source": [
        "# Python's list comprehensions are awesome"
      ]
    },
    {
      "cell_type": "code",
      "metadata": {
        "id": "xF6bjCDxx9Wt"
      },
      "source": [
        "# Python's list comprehensions are awesome.\r\n",
        "\r\n",
        "\"\"\"\r\n",
        "vals = [expression \r\n",
        "        for value in collection \r\n",
        "        if condition]\r\n",
        "\r\n",
        "# This is equivalent to:\r\n",
        "\r\n",
        "vals = []\r\n",
        "for value in collection:\r\n",
        "    if condition:\r\n",
        "        vals.append(expression)\r\n",
        "\"\"\"\r\n",
        "\r\n",
        "# Example:\r\n",
        "\r\n",
        "even_squares = [x * x for x in range(10) if not x % 2]\r\n",
        "odd_squares = [x * x for x in range(10) if x % 2]\r\n",
        "even_squares\r\n",
        "odd_squares"
      ],
      "execution_count": null,
      "outputs": []
    },
    {
      "cell_type": "markdown",
      "metadata": {
        "id": "GHNX_P1_ysUR"
      },
      "source": [
        "# Python 3.5+ type annotations"
      ]
    },
    {
      "cell_type": "code",
      "metadata": {
        "id": "8sQ7xstBytwI"
      },
      "source": [
        "# Python 3.5+ supports 'type annotations' that can be\r\n",
        "# used with tools like Mypy to write statically typed Python:\r\n",
        "\r\n",
        "def my_add(a: int, b: int) -> int:\r\n",
        "    return a + b\r\n",
        "\r\n",
        "print(my_add(2, 3))"
      ],
      "execution_count": null,
      "outputs": []
    },
    {
      "cell_type": "markdown",
      "metadata": {
        "id": "-TgCMtEoysSV"
      },
      "source": [
        "# Python list slice syntax fun"
      ]
    },
    {
      "cell_type": "code",
      "metadata": {
        "id": "fCvyMmrPzYz4"
      },
      "source": [
        "\r\n",
        "\r\n",
        "# Python's list slice syntax can be used without indices\r\n",
        "# for a few fun and useful things:\r\n",
        "\r\n",
        "# You can clear all elements from a list:\r\n",
        "lst = [1, 2, 3, 4, 5]\r\n",
        "del lst[:]\r\n",
        "lst\r\n",
        "\r\n",
        "# You can replace all elements of a list\r\n",
        "# without creating a new list object:\r\n",
        "a = lst\r\n",
        "lst[:] = [7, 8, 9]\r\n",
        "lst\r\n",
        "a is lst\r\n",
        "\r\n",
        "\r\n",
        "# You can also create a (shallow) copy of a list:\r\n",
        "b = lst[:]\r\n",
        "b\r\n",
        "b is lst"
      ],
      "execution_count": null,
      "outputs": []
    },
    {
      "cell_type": "markdown",
      "metadata": {
        "id": "1oF5RMhn0UKC"
      },
      "source": [
        "# CPython easter egg"
      ]
    },
    {
      "cell_type": "code",
      "metadata": {
        "id": "kRoXgSqx0VRX"
      },
      "source": [
        "# Here's a fun little CPython easter egg.\r\n",
        "# Just run the following in a Python 2.7+ interpreter session:\r\n",
        "\r\n",
        "import antigravity"
      ],
      "execution_count": null,
      "outputs": []
    },
    {
      "cell_type": "markdown",
      "metadata": {
        "id": "i97eK6Ap0i3V"
      },
      "source": [
        "# Finding the most common elements in an iterable"
      ]
    },
    {
      "cell_type": "code",
      "metadata": {
        "id": "EGkwIXnP0kka"
      },
      "source": [
        "# collections.Counter lets you find the most common\r\n",
        "# elements in an iterable:\r\n",
        "\r\n",
        "import collections\r\n",
        "c = collections.Counter('helloworld')\r\n",
        "\r\n",
        "c\r\n",
        "\r\n",
        "c.most_common(3)"
      ],
      "execution_count": null,
      "outputs": []
    },
    {
      "cell_type": "markdown",
      "metadata": {
        "id": "1BPIawzHSkXK"
      },
      "source": [
        "# itertools.permutations()"
      ]
    },
    {
      "cell_type": "code",
      "metadata": {
        "id": "PfYKlFFpSlW9"
      },
      "source": [
        "# itertools.permutations() generates permutations \r\n",
        "# for an iterable. Time to brute-force those passwords ;-)\r\n",
        "\r\n",
        "import itertools\r\n",
        "for p in itertools.permutations('ABCD'):\r\n",
        "    print(p)"
      ],
      "execution_count": null,
      "outputs": []
    },
    {
      "cell_type": "markdown",
      "metadata": {
        "id": "2KDzGr7JS0cK"
      },
      "source": [
        "# When To Use __repr__ vs __str__"
      ]
    },
    {
      "cell_type": "code",
      "metadata": {
        "id": "Y89vE2xFS1WI"
      },
      "source": [
        "# When To Use __repr__ vs __str__?\r\n",
        "# Emulate what the std lib does:import datetime\r\n",
        "import datetime\r\n",
        "\r\n",
        "today = datetime.date.today()\r\n",
        "\r\n",
        "# Result of __str__ should be readable:\r\n",
        "str(today)\r\n",
        "\r\n",
        "# Result of __repr__ should be unambiguous:\r\n",
        "repr(today)\r\n",
        "\r\n",
        "# Python interpreter sessions use \r\n",
        "# __repr__ to inspect objects:\r\n",
        "today"
      ],
      "execution_count": null,
      "outputs": []
    },
    {
      "cell_type": "markdown",
      "metadata": {
        "id": "UvVRZVW07bUx"
      },
      "source": [
        "# Peeking Behind The Bytecode Curtain"
      ]
    },
    {
      "cell_type": "code",
      "metadata": {
        "id": "0VX2ogtI7wXT"
      },
      "source": [
        "# You can use Python's built-in \"dis\"\r\n",
        "# module to disassemble functions and\r\n",
        "# inspect their CPython VM bytecode:\r\n",
        "\r\n",
        "def greet(name):\r\n",
        "    return 'Hello, ' + name + '!'\r\n",
        "\r\n",
        "greet('Arpit')\r\n",
        "\r\n",
        "import dis\r\n",
        "\r\n",
        "dis.dis(greet)"
      ],
      "execution_count": null,
      "outputs": []
    },
    {
      "cell_type": "markdown",
      "metadata": {
        "id": "S_e-QInS9v0M"
      },
      "source": [
        "# @classmethod vs @staticmethod vs \"plain\" methods"
      ]
    },
    {
      "cell_type": "code",
      "metadata": {
        "id": "SvVEIvGC94Be"
      },
      "source": [
        "# @classmethod vs @staticmethod vs \"plain\" methods\r\n",
        "# What's the difference?\r\n",
        "\r\n",
        "class MyClass:\r\n",
        "    def method(self):\r\n",
        "        \"\"\"\r\n",
        "        Instance methods need a class instance and\r\n",
        "        can access the instance through `self`.\r\n",
        "        \"\"\"\r\n",
        "        return 'instance method called', self\r\n",
        "\r\n",
        "    @classmethod\r\n",
        "    def classmethod(cls):\r\n",
        "        \"\"\"\r\n",
        "        Class methods don't need a class instance.\r\n",
        "        They can't access the instance (self) but\r\n",
        "        they have access to the class itself via `cls`.\r\n",
        "        \"\"\"\r\n",
        "        return 'class method called', cls\r\n",
        "\r\n",
        "    @staticmethod\r\n",
        "    def staticmethod():\r\n",
        "        \"\"\"\r\n",
        "        Static methods don't have access to `cls` or `self`.\r\n",
        "        They work like regular functions but belong to\r\n",
        "        the class's namespace.\r\n",
        "        \"\"\"\r\n",
        "        return 'static method called'\r\n",
        "\r\n",
        "# All methods types can be called on a class instance\r\n",
        "obj = MyClass()\r\n",
        "obj.method()\r\n",
        "obj.classmethod()\r\n",
        "obj.staticmethod()\r\n",
        "\r\n",
        "MyClass.classmethod()\r\n",
        "MyClass.staticmethod()\r\n"
      ],
      "execution_count": null,
      "outputs": []
    },
    {
      "cell_type": "markdown",
      "metadata": {
        "id": "AYRIOE3l_5Pr"
      },
      "source": [
        "# Working with IP addresses in Python 3"
      ]
    },
    {
      "cell_type": "code",
      "metadata": {
        "id": "CiufXvYZ_6c-"
      },
      "source": [
        "# Python 3 has a std lib module for working with IP addresses:\r\n",
        "\r\n",
        "import ipaddress\r\n",
        "\r\n",
        "ipaddress.ip_address('192.168.1.2')\r\n",
        "\r\n",
        "ipaddress.ip_address('2001:af3::')"
      ],
      "execution_count": null,
      "outputs": []
    },
    {
      "cell_type": "markdown",
      "metadata": {
        "id": "j91Qs7G2_5OD"
      },
      "source": [
        "# Accessing class and function names at runtime"
      ]
    },
    {
      "cell_type": "code",
      "metadata": {
        "id": "oDvJ3vvMAWxR"
      },
      "source": [
        "# You can get the name of an object's class as a string:\r\n",
        "\r\n",
        "class MyClass: pass\r\n",
        "\r\n",
        "obj = MyClass()\r\n",
        "obj.__class__.__name__\r\n",
        "\r\n",
        "# Functions have a similar feature\r\n",
        "\r\n",
        "def myfunc(): pass\r\n",
        "\r\n",
        "myfunc.__name__"
      ],
      "execution_count": null,
      "outputs": []
    },
    {
      "cell_type": "markdown",
      "metadata": {
        "id": "mVc2WTHfAx4l"
      },
      "source": [
        "# Class inheritance and the issubclass() built-in"
      ]
    },
    {
      "cell_type": "code",
      "metadata": {
        "id": "r2HuHM3NAy2Y"
      },
      "source": [
        "# You can check for class\r\n",
        "# inheritance relationships \r\n",
        "# with the \"issubclass()\" built-in:\r\n",
        "\r\n",
        "class BaseClass: pass\r\n",
        "\r\n",
        "class SubClass(BaseClass): pass\r\n",
        "\r\n",
        "issubclass(SubClass, BaseClass)\r\n",
        "issubclass(BaseClass, object)\r\n",
        "issubclass(BaseClass, SubClass)"
      ],
      "execution_count": null,
      "outputs": []
    },
    {
      "cell_type": "markdown",
      "metadata": {
        "id": "d5n6J6STBO6H"
      },
      "source": [
        "# Python 3 allows unicode variable names"
      ]
    },
    {
      "cell_type": "code",
      "metadata": {
        "colab": {
          "base_uri": "https://localhost:8080/"
        },
        "id": "ZEAjslurBUtC",
        "outputId": "3afa8e9f-b1fe-4eca-ed07-5fe8d8ad358b"
      },
      "source": [
        "# Python 3 allows unicode variable names\r\n",
        "\r\n",
        "import math\r\n",
        "\r\n",
        "n = math.pi\r\n",
        "\r\n",
        "class Spin̈alTap: pass\r\n",
        "Spin̈alTap()\r\n",
        "\r\n",
        "# Only letter-like characters work, however:\r\n",
        "# 🍺 = \"beer\" # will get syntax error"
      ],
      "execution_count": null,
      "outputs": [
        {
          "output_type": "execute_result",
          "data": {
            "text/plain": [
              "<__main__.Spin̈alTap at 0x7efdf5f4fb70>"
            ]
          },
          "metadata": {
            "tags": []
          },
          "execution_count": 74
        }
      ]
    },
    {
      "cell_type": "markdown",
      "metadata": {
        "id": "PTant-3aik5n"
      },
      "source": [
        "# Awesome Python built-ins: globals() and locals()"
      ]
    },
    {
      "cell_type": "code",
      "metadata": {
        "id": "e1FFWn5wijaw"
      },
      "source": [
        "# \"globals()\" returns a dict with all global variables in the current scope:\n",
        "\n",
        "globals()\n",
        "\n",
        "# \"locals()\" does the same but for all local variables in the current scope:\n",
        "\n",
        "locals()"
      ],
      "execution_count": null,
      "outputs": []
    },
    {
      "cell_type": "markdown",
      "metadata": {
        "id": "57C6Pp3sSD0P"
      },
      "source": [
        "# Python 3.3+ has a new \"faulthandler\" std lib module"
      ]
    },
    {
      "cell_type": "code",
      "metadata": {
        "id": "j20yhYEiSFvh"
      },
      "source": [
        "# Python 3.3+ has a std lib module for displaying tracebacks even when Python\r\n",
        "# \"dies\", e.g with a segfault:\r\n",
        "\r\n",
        "import faulthandler\r\n",
        "faulthandler.enable()\r\n",
        "\r\n",
        "# Can also be enabled with \"python -X faulthandler\" from the command line.\r\n",
        "\r\n",
        "# Learn more here:\r\n",
        "# https://docs.python.org/3/library/faulthandler.html"
      ],
      "execution_count": null,
      "outputs": []
    },
    {
      "cell_type": "markdown",
      "metadata": {
        "id": "7e728hEZApZ-"
      },
      "source": [
        "# The Python Ellipsis\r\n",
        "\r\n",
        "The Python ellipsis is a sequence of three dots. It’s used a lot in conventional (non-programming) languages. But what you might not know, is that it’s a valid object in Python too:"
      ]
    },
    {
      "cell_type": "code",
      "metadata": {
        "colab": {
          "base_uri": "https://localhost:8080/"
        },
        "id": "cq6ys2gnAvxy",
        "outputId": "eb458c49-576b-4fb8-d676-43c03747c3ae"
      },
      "source": [
        "..."
      ],
      "execution_count": null,
      "outputs": [
        {
          "output_type": "execute_result",
          "data": {
            "text/plain": [
              "Ellipsis"
            ]
          },
          "metadata": {
            "tags": []
          },
          "execution_count": 12
        }
      ]
    },
    {
      "cell_type": "markdown",
      "metadata": {
        "id": "krH-kc96A7CZ"
      },
      "source": [
        "Its primary use seems to be in matrix slicing operations in NumPy. However, you can use it as a placeholder in a function that you haven’t implemented yet, instead of using pass, as most people do:"
      ]
    },
    {
      "cell_type": "code",
      "metadata": {
        "id": "5XtQQE_LBADI"
      },
      "source": [
        "def my_func():\r\n",
        "   ..."
      ],
      "execution_count": null,
      "outputs": []
    },
    {
      "cell_type": "markdown",
      "metadata": {
        "id": "CsLOTBOR9JeX"
      },
      "source": [
        "# \"for\" (and \"while\") loops can have an \"else\" branch?!"
      ]
    },
    {
      "cell_type": "code",
      "metadata": {
        "id": "x6tCh2-d9V6b"
      },
      "source": [
        "# Python's `for` and `while` loops support an `else` clause that executes\r\n",
        "# only if the loops terminates without hitting a `break` statement.\r\n",
        "\r\n",
        "def contains(haystack, needle):\r\n",
        "    \"\"\"\r\n",
        "    Throw a ValueError if `needle` not\r\n",
        "    in `haystack`.\r\n",
        "    \"\"\"\r\n",
        "    for item in haystack:\r\n",
        "        if item == needle:\r\n",
        "            break\r\n",
        "    else:\r\n",
        "        # The `else` here is a\r\n",
        "        # \"completion clause\" that runs\r\n",
        "        # only if the loop ran to completion\r\n",
        "        # without hitting a `break` statement.\r\n",
        "        raise ValueError('Needle not found')\r\n",
        "\r\n",
        "contains([23, 'needle', 0xbadc0ffee], 'needle')\r\n",
        "\r\n",
        "# Personally, I'm not a fan of the `else` \"completion clause\" in loops because\r\n",
        "# I find it confusing. I'd rather do something like this:\r\n",
        "def better_contains(haystack, needle):\r\n",
        "    for item in haystack:\r\n",
        "        if item == needle:\r\n",
        "            return\r\n",
        "    raise ValueError('Needle not found')\r\n",
        "\r\n",
        "    # Note: Typically you'd write something like this to do a membership test,\r\n",
        "    # which is much more Pythonic:\r\n",
        "\r\n",
        "    if needle not in haystack:\r\n",
        "        raise ValueError('Needle not found')"
      ],
      "execution_count": null,
      "outputs": []
    },
    {
      "cell_type": "markdown",
      "metadata": {
        "id": "IcLgZgJqbkl7"
      },
      "source": [
        "# Check memory usage of your objects\r\n",
        "\r\n",
        "With `sys.getsizeof()` you can check the memory usage of an object"
      ]
    },
    {
      "cell_type": "code",
      "metadata": {
        "colab": {
          "base_uri": "https://localhost:8080/"
        },
        "id": "-fP0PyCybyHA",
        "outputId": "bb12ebfe-bf7e-43ba-ff7a-f09d96b5bf7f"
      },
      "source": [
        "import sys\r\n",
        "\r\n",
        "mylist = range(0, 10000)\r\n",
        "print(sys.getsizeof(mylist))"
      ],
      "execution_count": 1,
      "outputs": [
        {
          "output_type": "stream",
          "text": [
            "48\n"
          ],
          "name": "stdout"
        }
      ]
    },
    {
      "cell_type": "markdown",
      "metadata": {
        "id": "JoO8orA_b2mv"
      },
      "source": [
        "Woah… wait… why is this huge list only 48 bytes?\r\n",
        "\r\n",
        "It’s because the range function returns a class that only behaves like a list. A range is a lot more memory efficient than using an actual list of numbers.\r\n",
        "\r\n",
        "You can see for yourself by using a list comprehension to create an actual list of numbers from the same range:\r\n"
      ]
    },
    {
      "cell_type": "code",
      "metadata": {
        "colab": {
          "base_uri": "https://localhost:8080/"
        },
        "id": "ZaKY-byDb6hY",
        "outputId": "e0525fe5-435b-4dc5-be36-908c5c0233b8"
      },
      "source": [
        "import sys\r\n",
        "\r\n",
        "myreallist = [x for x in range(0, 10000)]\r\n",
        "print(sys.getsizeof(myreallist))"
      ],
      "execution_count": 2,
      "outputs": [
        {
          "output_type": "stream",
          "text": [
            "87624\n"
          ],
          "name": "stdout"
        }
      ]
    }
  ]
}